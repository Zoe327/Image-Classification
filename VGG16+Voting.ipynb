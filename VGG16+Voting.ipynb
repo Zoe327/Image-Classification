{
  "nbformat": 4,
  "nbformat_minor": 0,
  "metadata": {
    "colab": {
      "name": "VGG16+Voting.ipynb",
      "provenance": [],
      "collapsed_sections": [],
      "machine_shape": "hm"
    },
    "kernelspec": {
      "name": "python3",
      "display_name": "Python 3"
    },
    "accelerator": "GPU"
  },
  "cells": [
    {
      "cell_type": "code",
      "metadata": {
        "id": "NvPdBLZEAFqH",
        "colab_type": "code",
        "colab": {}
      },
      "source": [
        "# kaggle initialization\n",
        "!pip install kaggle\n",
        "!mkdir .kaggle\n",
        "import json\n",
        "\n",
        "token = {\"username\":\"zhuningbo\",\"key\":\"bfc23d452a2bb1fd791e4237234827d4\"}\n",
        "\n",
        "with open('/content/.kaggle/kaggle.json', 'w') as file:\n",
        "    json.dump(token, file)"
      ],
      "execution_count": null,
      "outputs": []
    },
    {
      "cell_type": "code",
      "metadata": {
        "id": "U2Er9bugVMc_",
        "colab_type": "code",
        "colab": {}
      },
      "source": [
        "# download data\n",
        "!chmod 600 /content/.kaggle/kaggle.json\n",
        "!cp /content/.kaggle/kaggle.json ~/.kaggle/kaggle.json\n",
        "!kaggle competitions download -c modified-mnist -p /content\n",
        "!ls -la\n",
        "!unzip \\*.zip"
      ],
      "execution_count": null,
      "outputs": []
    },
    {
      "cell_type": "code",
      "metadata": {
        "id": "gvmPvLAwVhCE",
        "colab_type": "code",
        "colab": {}
      },
      "source": [
        "# load data\n",
        "import numpy as np\n",
        "import pandas as pd\n",
        "train_img = pd.read_pickle('train_max_x')\n",
        "train_lbl = pd.read_csv('train_max_y.csv')\n",
        "test_img = pd.read_pickle('test_max_x')"
      ],
      "execution_count": null,
      "outputs": []
    },
    {
      "cell_type": "code",
      "metadata": {
        "id": "k6PtxJPWWJVn",
        "colab_type": "code",
        "colab": {}
      },
      "source": [
        "# image display (for testing)\n",
        "import matplotlib.pyplot as plt\n",
        "index = 100\n",
        "plt.imshow(test_img[index].reshape((128,128)))"
      ],
      "execution_count": null,
      "outputs": []
    },
    {
      "cell_type": "code",
      "metadata": {
        "id": "zWwBpp07Wktd",
        "colab_type": "code",
        "colab": {}
      },
      "source": [
        "# Dataset split\n",
        "from sklearn.model_selection import train_test_split\n",
        "\n",
        "lbl = [train_lbl.iloc[ID]['Label'] for ID in range(len(train_lbl))]\n",
        "\n",
        "train_x, testvalid_x, train_y, testvalid_y = train_test_split(train_img, lbl, test_size=0.1, shuffle=False)\n",
        "valid_x, test_x, valid_y, test_y = train_test_split(testvalid_x, testvalid_y, test_size=0.1, shuffle=False)\n",
        "\n",
        "train_x = np.array(train_x)\n",
        "test_x = np.array(test_x)\n",
        "valid_x = np.array(valid_x)\n"
      ],
      "execution_count": null,
      "outputs": []
    },
    {
      "cell_type": "code",
      "metadata": {
        "id": "a7HsrYvOWyRA",
        "colab_type": "code",
        "colab": {}
      },
      "source": [
        "# Preprocessing\n",
        "\n",
        "!sudo apt-get install libhdf5-serial-dev\n",
        "!mkdir ./output\n",
        "\n",
        "import keras\n",
        "from keras import backend as K\n",
        "from keras.datasets import mnist\n",
        "from keras.models import Sequential\n",
        "from keras.layers import Dense, Dropout, Flatten, BatchNormalization, Conv2D, MaxPooling2D\n",
        "from keras.callbacks import ModelCheckpoint, ReduceLROnPlateau\n",
        "from keras.preprocessing.image import ImageDataGenerator\n",
        "from keras.constraints import maxnorm\n",
        "\n",
        "import h5py \n",
        "from __future__ import print_function\n",
        "\n",
        "num_classes = 10\n",
        "batch_size = 100\n",
        "epochs = 60\n",
        "\n",
        "row, col = 128, 128\n",
        "\n",
        "x_train = np.concatenate( [train_x] ).astype('float32').reshape(-1,row,col,1)\n",
        "x_valid = valid_x.astype('float32').reshape(-1,row,col,1)\n",
        "x_test = test_img.astype('float32').reshape(-1,row,col,1)\n",
        "rgb_x_valid = np.repeat(valid_x[..., np.newaxis], 3, -1)\n",
        "rgb_x_test = np.repeat(test_img[..., np.newaxis], 3, -1)\n",
        "print(x_test.shape)\n",
        "print(x_train.shape[0], 'train samples')\n",
        "print(x_valid.shape[0], 'test samples')\n",
        "\n",
        "y_train = keras.utils.to_categorical(np.concatenate([train_y]), num_classes)\n",
        "y_valid = keras.utils.to_categorical(valid_y, num_classes)\n",
        "\n",
        "input_shape = (row, col, 1)\n",
        "\n",
        "datagen = ImageDataGenerator(rotation_range=20,\n",
        "                shear_range=0.1,\n",
        "                zoom_range=0.1,\n",
        "                horizontal_flip=False,\n",
        "                fill_mode='nearest')\n",
        "datagen.fit(x_train)\n",
        "train_generator = datagen.flow(x_train, y_train, batch_size=batch_size)"
      ],
      "execution_count": null,
      "outputs": []
    },
    {
      "cell_type": "code",
      "metadata": {
        "id": "gpWB9DIyWyX8",
        "colab_type": "code",
        "colab": {}
      },
      "source": [
        "# Model definition\n",
        "from keras.models import Sequential\n",
        "from keras.layers import Activation\n",
        "from keras.layers.core import Flatten, Dense, Dropout\n",
        "from keras.layers.convolutional import Conv2D, MaxPooling2D, ZeroPadding2D\n",
        "import cv2\n",
        "\n",
        "model = Sequential()\n",
        "dr_c = 0\n",
        "dr_n = 0.1\n",
        "\n",
        "# model.add(MaxPooling2D((2,2), strides=(2,2), input_shape=(128,128,1)))\n",
        "\n",
        "model.add(ZeroPadding2D((1,1),input_shape=(128,128,1)))\n",
        "# model.add(ZeroPadding2D((1,1)))\n",
        "model.add(Conv2D(64, (3, 3)))\n",
        "model.add(Activation('relu'))\n",
        "model.add(BatchNormalization())\n",
        "\n",
        "model.add(ZeroPadding2D((1,1)))\n",
        "model.add(Conv2D(64, (3, 3)))\n",
        "model.add(Activation('relu'))\n",
        "model.add(BatchNormalization())\n",
        "model.add(MaxPooling2D((2,2), strides=(2,2)))\n",
        "# model.add(Dropout(dr_c))\n",
        "\n",
        "model.add(ZeroPadding2D((1,1)))\n",
        "model.add(Conv2D(128,(3, 3)))\n",
        "model.add(Activation('relu'))\n",
        "model.add(BatchNormalization())\n",
        "\n",
        "model.add(ZeroPadding2D((1,1)))\n",
        "model.add(Conv2D(128, (3, 3)))\n",
        "model.add(Activation('relu'))\n",
        "model.add(BatchNormalization())\n",
        "model.add(MaxPooling2D((2,2), strides=(2,2)))\n",
        "# model.add(Dropout(dr_c))\n",
        "\n",
        "model.add(ZeroPadding2D((1,1)))\n",
        "model.add(Conv2D(256, (3, 3)))\n",
        "model.add(Activation('relu'))\n",
        "model.add(BatchNormalization())\n",
        "\n",
        "# model.add(ZeroPadding2D((1,1)))\n",
        "# model.add(Conv2D(256, (3, 3)))\n",
        "# model.add(Activation('relu'))\n",
        "# model.add(BatchNormalization())\n",
        "\n",
        "model.add(ZeroPadding2D((1,1)))\n",
        "model.add(Conv2D(256, (3, 3)))\n",
        "model.add(Activation('relu'))\n",
        "model.add(BatchNormalization())\n",
        "\n",
        "model.add(ZeroPadding2D((1,1)))\n",
        "model.add(Conv2D(256, (3, 3)))\n",
        "model.add(Activation('relu'))\n",
        "model.add(BatchNormalization())\n",
        "model.add(MaxPooling2D((2,2), strides=(2,2)))\n",
        "# model.add(Dropout(dr_c))\n",
        "\n",
        "model.add(ZeroPadding2D((1,1)))\n",
        "model.add(Conv2D(512, (3, 3)))\n",
        "model.add(Activation('relu'))\n",
        "model.add(BatchNormalization())\n",
        "\n",
        "# model.add(ZeroPadding2D((1,1)))\n",
        "# model.add(Conv2D(512, (3, 3)))\n",
        "# model.add(Activation('relu'))\n",
        "# model.add(BatchNormalization())\n",
        "\n",
        "model.add(ZeroPadding2D((1,1)))\n",
        "model.add(Conv2D(512, (3, 3)))\n",
        "model.add(Activation('relu'))\n",
        "model.add(BatchNormalization())\n",
        "\n",
        "model.add(ZeroPadding2D((1,1)))\n",
        "model.add(Conv2D(512, (3, 3)))\n",
        "model.add(Activation('relu'))\n",
        "model.add(BatchNormalization())\n",
        "model.add(MaxPooling2D((2,2), strides=(2,2)))\n",
        "# model.add(Dropout(dr_c))\n",
        "\n",
        "model.add(ZeroPadding2D((1,1)))\n",
        "model.add(Conv2D(512, (3, 3)))\n",
        "model.add(Activation('relu'))\n",
        "model.add(BatchNormalization())\n",
        "\n",
        "# model.add(ZeroPadding2D((1,1)))\n",
        "# model.add(Conv2D(512, (3, 3)))\n",
        "# model.add(Activation('relu'))\n",
        "# model.add(BatchNormalization())\n",
        "\n",
        "model.add(ZeroPadding2D((1,1)))\n",
        "model.add(Conv2D(512, (3, 3)))\n",
        "model.add(Activation('relu'))\n",
        "model.add(BatchNormalization())\n",
        "\n",
        "model.add(ZeroPadding2D((1,1)))\n",
        "model.add(Conv2D(512, (3, 3)))\n",
        "model.add(Activation('relu'))\n",
        "model.add(BatchNormalization())\n",
        "model.add(MaxPooling2D((2,2), strides=(2,2)))\n",
        "# model.add(Dropout(dr_c))\n",
        "\n",
        "model.add(Flatten())\n",
        "model.add(Dense(64*64))\n",
        "model.add(Activation('relu'))\n",
        "model.add(BatchNormalization())\n",
        "model.add(Dropout(dr_n))\n",
        "\n",
        "model.add(Dense(64*64))\n",
        "model.add(Activation('relu'))\n",
        "model.add(BatchNormalization())\n",
        "model.add(Dropout(dr_n))\n",
        "model.add(Dense(10, activation='softmax'))\n",
        "model.compile(loss=keras.losses.categorical_crossentropy,\n",
        "      optimizer=keras.optimizers.Adam(lr=0.001,epsilon=1e-3),\n",
        "      metrics=['accuracy'])"
      ],
      "execution_count": null,
      "outputs": []
    },
    {
      "cell_type": "code",
      "metadata": {
        "id": "TJTyuG1FPJl7",
        "colab_type": "code",
        "colab": {}
      },
      "source": [
        "# load weights from a previously trained model\n",
        "filepath = '/content/drive/My Drive/2019FALL_COMP551_MP3_GROUP37/Ensemble/vgg_16.hdf5'\n",
        "model.load_weights(filepath)"
      ],
      "execution_count": null,
      "outputs": []
    },
    {
      "cell_type": "code",
      "metadata": {
        "id": "-koq6s8qzf8a",
        "colab_type": "code",
        "colab": {}
      },
      "source": [
        "# early stoping\n",
        "filepath = './output/mnist_cnn_best1.hdf5'\n",
        "filecheck = ModelCheckpoint(filepath, monitor='val_acc', verbose=1,\n",
        "              save_best_only=True, mode='max')\n",
        "\n",
        "LRreduce = ReduceLROnPlateau(monitor='val_acc', patience=4, verbose=1, \n",
        "              factor=0.5, min_lr=0.00001)# acc"
      ],
      "execution_count": null,
      "outputs": []
    },
    {
      "cell_type": "code",
      "metadata": {
        "id": "eLWuqYOvzf4b",
        "colab_type": "code",
        "colab": {}
      },
      "source": [
        "Process = model.fit_generator(train_generator,\n",
        "                steps_per_epoch= 45000 // batch_size,\n",
        "                epochs=epochs,\n",
        "                verbose=1,\n",
        "                validation_data=(x_valid, y_valid),\n",
        "                callbacks=[LRreduce,filecheck])\n"
      ],
      "execution_count": null,
      "outputs": []
    },
    {
      "cell_type": "code",
      "metadata": {
        "id": "RxZW2U1hlFdb",
        "colab_type": "code",
        "colab": {}
      },
      "source": [
        "from google.colab import drive\n",
        "drive.mount('/content/drive')"
      ],
      "execution_count": null,
      "outputs": []
    },
    {
      "cell_type": "code",
      "metadata": {
        "id": "vV0YnhYLzf1V",
        "colab_type": "code",
        "colab": {}
      },
      "source": [
        "# Submission functions\n",
        "from keras.models import load_model\n",
        "test_images = test_images.astype('float32').reshape(-1,row,col,1)\n",
        "def get_submission(filename):\n",
        "  # model = load_model('./output/mnist_cnn_best1.hdf5')\n",
        "  model = load_model('/content/drive/My Drive/2019FALL_COMP551_MP3_GROUP37/Ensemble/vgg_16_best.hdf5')\n",
        "  \n",
        "  ypred_onehot = model.predict(test_images)\n",
        "  ypred = np.argmax(ypred_onehot,axis=1)\n",
        "\n",
        "  with open(filename, 'w') as f:\n",
        "    print('Id,Label', file=f)\n",
        "    for i in range(len(ypred)):\n",
        "      print(f'{i},{ypred[i]}', file=f)\n",
        "\n",
        "def get_submission_voting(filename, weights, mode='hard'):\n",
        "\n",
        "  model_1 = load_model('/content/drive/My Drive/2019FALL_COMP551_MP3_GROUP37/Ensemble/CNN_8.hdf5')\n",
        "  model_2 = load_model('/content/drive/My Drive/2019FALL_COMP551_MP3_GROUP37/Ensemble/resnet_18.hdf5')\n",
        "  model_3 = load_model('/content/drive/My Drive/2019FALL_COMP551_MP3_GROUP37/Ensemble/vgg_16_best.hdf5')\n",
        "  \n",
        "  rst_1 = model_1.predict(x_test)\n",
        "  rst_2 = model_2.predict(rgb_x_test)\n",
        "  rst_3 = model_3.predict(x_test)\n",
        "\n",
        "  rst_1_hard = keras.utils.to_categorical(np.argmax(model_1.predict(x_test), axis=1), num_classes)\n",
        "  rst_2_hard = keras.utils.to_categorical(np.argmax(model_2.predict(rgb_x_test), axis=1), num_classes)\n",
        "  rst_3_hard = keras.utils.to_categorical(np.argmax(model_3.predict(x_test), axis=1), num_classes)\n",
        "\n",
        "  if mode == 'hard':\n",
        "    pred_y = np.argmax(rst_1_hard*weights[0]+rst_2_hard*weights[1]+rst_3_hard*weights[2], axis=1)\n",
        "  elif mode == 'soft':\n",
        "    pred_y = np.argmax(rst_1*weights[0]+rst_2*weights[1]+rst_3*weights[2], axis=1)\n",
        "  else:\n",
        "    print('mode should be either \\'hard\\' or \\'soft\\'')\n",
        "    return None\n",
        "\n",
        "  with open(filename, 'w') as f:\n",
        "    print('Id,Label', file=f)\n",
        "    for i in range(len(pred_y)):\n",
        "\n",
        "      print(f'{i},{pred_y[i]}', file=f)"
      ],
      "execution_count": null,
      "outputs": []
    },
    {
      "cell_type": "code",
      "metadata": {
        "id": "5Iv6Mk8YzfyI",
        "colab_type": "code",
        "colab": {}
      },
      "source": [
        "get_submission('output.csv')"
      ],
      "execution_count": null,
      "outputs": []
    },
    {
      "cell_type": "code",
      "metadata": {
        "id": "wM7cc1FSAyo3",
        "colab_type": "code",
        "colab": {}
      },
      "source": [
        "get_submission_voting('output.csv', weights=[1,1,1.5], mode='hard')"
      ],
      "execution_count": null,
      "outputs": []
    },
    {
      "cell_type": "code",
      "metadata": {
        "id": "wYH57-M_zfus",
        "colab_type": "code",
        "colab": {}
      },
      "source": [
        "model = load_model('./output/mnist_cnn_best1.hdf5')\n",
        "  \n",
        "ypred_onehot = model.predict(test_images)\n",
        "ypred = np.argmax(ypred_onehot,axis=1)#"
      ],
      "execution_count": null,
      "outputs": []
    },
    {
      "cell_type": "code",
      "metadata": {
        "id": "zadQwqCpzfJj",
        "colab_type": "code",
        "colab": {}
      },
      "source": [
        "# Ensembling - Voting\n",
        "\n",
        "model_1 = load_model('/content/drive/My Drive/2019FALL_COMP551_MP3_GROUP37/Ensemble/CNN_8.hdf5')\n",
        "model_2 = load_model('/content/drive/My Drive/2019FALL_COMP551_MP3_GROUP37/Ensemble/resnet_18.hdf5')\n",
        "model_3 = load_model('/content/drive/My Drive/2019FALL_COMP551_MP3_GROUP37/Ensemble/vgg_16_best.hdf5')"
      ],
      "execution_count": null,
      "outputs": []
    },
    {
      "cell_type": "code",
      "metadata": {
        "id": "9q4x1gFeze-S",
        "colab_type": "code",
        "colab": {}
      },
      "source": [
        "# get validation score for voting\n",
        "from sklearn.metrics import accuracy_score\n",
        "\n",
        "model = model_1\n",
        "\n",
        "weights = [1,1,10]\n",
        "\n",
        "rst_1 = model_1.predict(x_valid)\n",
        "rst_2 = model_2.predict(rgb_x_valid)\n",
        "rst_3 = model_3.predict(x_valid)\n",
        "\n",
        "rst_1_hard = keras.utils.to_categorical(np.argmax(model_1.predict(x_valid), axis=1), num_classes)\n",
        "rst_2_hard = keras.utils.to_categorical(np.argmax(model_2.predict(rgb_x_valid), axis=1), num_classes)\n",
        "rst_3_hard = keras.utils.to_categorical(np.argmax(model_3.predict(x_valid), axis=1), num_classes)\n",
        "\n",
        "pred_y = np.argmax(rst_1*weights[0]+rst_2*weights[1]+rst_3*weights[2], axis=1)\n",
        "# pred_y = np.argmax(rst_1_hard*weights[0]+rst_2_hard*weights[1]+rst_3_hard*weights[2], axis=1)\n",
        "print('Validation accuracy =', accuracy_score(pred_y, np.array(valid_y)))\n"
      ],
      "execution_count": null,
      "outputs": []
    },
    {
      "cell_type": "code",
      "metadata": {
        "id": "JMA9rzfRe2i-",
        "colab_type": "code",
        "colab": {}
      },
      "source": [
        "from sklearn.metrics import classification_report\n",
        "from sklearn import model_selection, feature_extraction, preprocessing, svm, pipeline, metrics, tree, linear_model\n",
        "print(metrics.classification_report(ytrue, ypred, digits=5))\n",
        "print(ypred)"
      ],
      "execution_count": null,
      "outputs": []
    },
    {
      "cell_type": "code",
      "metadata": {
        "id": "PRFdaMufD6Lb",
        "colab_type": "code",
        "colab": {}
      },
      "source": [
        "!nvidia-smi\n",
        "!ps -aux|grep python\n"
      ],
      "execution_count": null,
      "outputs": []
    },
    {
      "cell_type": "code",
      "metadata": {
        "id": "ZcgSKseGEzpi",
        "colab_type": "code",
        "colab": {}
      },
      "source": [
        "!kill -9 147"
      ],
      "execution_count": null,
      "outputs": []
    }
  ]
}